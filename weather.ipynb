{
  "nbformat": 4,
  "nbformat_minor": 0,
  "metadata": {
    "colab": {
      "provenance": [],
      "authorship_tag": "ABX9TyNpSPwPOiLd0zWf9makZ34M",
      "include_colab_link": true
    },
    "kernelspec": {
      "name": "python3",
      "display_name": "Python 3"
    },
    "language_info": {
      "name": "python"
    }
  },
  "cells": [
    {
      "cell_type": "markdown",
      "metadata": {
        "id": "view-in-github",
        "colab_type": "text"
      },
      "source": [
        "<a href=\"https://colab.research.google.com/github/hashanranasinghe/ML/blob/main/weather.ipynb\" target=\"_parent\"><img src=\"https://colab.research.google.com/assets/colab-badge.svg\" alt=\"Open In Colab\"/></a>"
      ]
    },
    {
      "cell_type": "code",
      "execution_count": 2,
      "metadata": {
        "id": "pJrZjgVk1Lkj"
      },
      "outputs": [],
      "source": [
        "import pandas as pd\n",
        "import matplotlib.pyplot as plt\n",
        "import folium\n",
        "import seaborn as sns"
      ]
    },
    {
      "cell_type": "code",
      "source": [
        "df = pd.read_csv('/content/SriLanka_Weather_Dataset.csv')"
      ],
      "metadata": {
        "id": "6SWS3fH61fSJ",
        "outputId": "bc9faa96-3a80-4d29-8169-ac5530b73e2f",
        "colab": {
          "base_uri": "https://localhost:8080/",
          "height": 293
        }
      },
      "execution_count": 3,
      "outputs": [
        {
          "output_type": "error",
          "ename": "FileNotFoundError",
          "evalue": "[Errno 2] No such file or directory: '/content/SriLanka_Weather_Dataset.csv'",
          "traceback": [
            "\u001b[0;31m---------------------------------------------------------------------------\u001b[0m",
            "\u001b[0;31mFileNotFoundError\u001b[0m                         Traceback (most recent call last)",
            "\u001b[0;32m<ipython-input-3-b08095fdbd6d>\u001b[0m in \u001b[0;36m<cell line: 1>\u001b[0;34m()\u001b[0m\n\u001b[0;32m----> 1\u001b[0;31m \u001b[0mdf\u001b[0m \u001b[0;34m=\u001b[0m \u001b[0mpd\u001b[0m\u001b[0;34m.\u001b[0m\u001b[0mread_csv\u001b[0m\u001b[0;34m(\u001b[0m\u001b[0;34m'/content/SriLanka_Weather_Dataset.csv'\u001b[0m\u001b[0;34m)\u001b[0m\u001b[0;34m\u001b[0m\u001b[0;34m\u001b[0m\u001b[0m\n\u001b[0m",
            "\u001b[0;32m/usr/local/lib/python3.10/dist-packages/pandas/io/parsers/readers.py\u001b[0m in \u001b[0;36mread_csv\u001b[0;34m(filepath_or_buffer, sep, delimiter, header, names, index_col, usecols, dtype, engine, converters, true_values, false_values, skipinitialspace, skiprows, skipfooter, nrows, na_values, keep_default_na, na_filter, verbose, skip_blank_lines, parse_dates, infer_datetime_format, keep_date_col, date_parser, date_format, dayfirst, cache_dates, iterator, chunksize, compression, thousands, decimal, lineterminator, quotechar, quoting, doublequote, escapechar, comment, encoding, encoding_errors, dialect, on_bad_lines, delim_whitespace, low_memory, memory_map, float_precision, storage_options, dtype_backend)\u001b[0m\n\u001b[1;32m   1024\u001b[0m     \u001b[0mkwds\u001b[0m\u001b[0;34m.\u001b[0m\u001b[0mupdate\u001b[0m\u001b[0;34m(\u001b[0m\u001b[0mkwds_defaults\u001b[0m\u001b[0;34m)\u001b[0m\u001b[0;34m\u001b[0m\u001b[0;34m\u001b[0m\u001b[0m\n\u001b[1;32m   1025\u001b[0m \u001b[0;34m\u001b[0m\u001b[0m\n\u001b[0;32m-> 1026\u001b[0;31m     \u001b[0;32mreturn\u001b[0m \u001b[0m_read\u001b[0m\u001b[0;34m(\u001b[0m\u001b[0mfilepath_or_buffer\u001b[0m\u001b[0;34m,\u001b[0m \u001b[0mkwds\u001b[0m\u001b[0;34m)\u001b[0m\u001b[0;34m\u001b[0m\u001b[0;34m\u001b[0m\u001b[0m\n\u001b[0m\u001b[1;32m   1027\u001b[0m \u001b[0;34m\u001b[0m\u001b[0m\n\u001b[1;32m   1028\u001b[0m \u001b[0;34m\u001b[0m\u001b[0m\n",
            "\u001b[0;32m/usr/local/lib/python3.10/dist-packages/pandas/io/parsers/readers.py\u001b[0m in \u001b[0;36m_read\u001b[0;34m(filepath_or_buffer, kwds)\u001b[0m\n\u001b[1;32m    618\u001b[0m \u001b[0;34m\u001b[0m\u001b[0m\n\u001b[1;32m    619\u001b[0m     \u001b[0;31m# Create the parser.\u001b[0m\u001b[0;34m\u001b[0m\u001b[0;34m\u001b[0m\u001b[0m\n\u001b[0;32m--> 620\u001b[0;31m     \u001b[0mparser\u001b[0m \u001b[0;34m=\u001b[0m \u001b[0mTextFileReader\u001b[0m\u001b[0;34m(\u001b[0m\u001b[0mfilepath_or_buffer\u001b[0m\u001b[0;34m,\u001b[0m \u001b[0;34m**\u001b[0m\u001b[0mkwds\u001b[0m\u001b[0;34m)\u001b[0m\u001b[0;34m\u001b[0m\u001b[0;34m\u001b[0m\u001b[0m\n\u001b[0m\u001b[1;32m    621\u001b[0m \u001b[0;34m\u001b[0m\u001b[0m\n\u001b[1;32m    622\u001b[0m     \u001b[0;32mif\u001b[0m \u001b[0mchunksize\u001b[0m \u001b[0;32mor\u001b[0m \u001b[0miterator\u001b[0m\u001b[0;34m:\u001b[0m\u001b[0;34m\u001b[0m\u001b[0;34m\u001b[0m\u001b[0m\n",
            "\u001b[0;32m/usr/local/lib/python3.10/dist-packages/pandas/io/parsers/readers.py\u001b[0m in \u001b[0;36m__init__\u001b[0;34m(self, f, engine, **kwds)\u001b[0m\n\u001b[1;32m   1618\u001b[0m \u001b[0;34m\u001b[0m\u001b[0m\n\u001b[1;32m   1619\u001b[0m         \u001b[0mself\u001b[0m\u001b[0;34m.\u001b[0m\u001b[0mhandles\u001b[0m\u001b[0;34m:\u001b[0m \u001b[0mIOHandles\u001b[0m \u001b[0;34m|\u001b[0m \u001b[0;32mNone\u001b[0m \u001b[0;34m=\u001b[0m \u001b[0;32mNone\u001b[0m\u001b[0;34m\u001b[0m\u001b[0;34m\u001b[0m\u001b[0m\n\u001b[0;32m-> 1620\u001b[0;31m         \u001b[0mself\u001b[0m\u001b[0;34m.\u001b[0m\u001b[0m_engine\u001b[0m \u001b[0;34m=\u001b[0m \u001b[0mself\u001b[0m\u001b[0;34m.\u001b[0m\u001b[0m_make_engine\u001b[0m\u001b[0;34m(\u001b[0m\u001b[0mf\u001b[0m\u001b[0;34m,\u001b[0m \u001b[0mself\u001b[0m\u001b[0;34m.\u001b[0m\u001b[0mengine\u001b[0m\u001b[0;34m)\u001b[0m\u001b[0;34m\u001b[0m\u001b[0;34m\u001b[0m\u001b[0m\n\u001b[0m\u001b[1;32m   1621\u001b[0m \u001b[0;34m\u001b[0m\u001b[0m\n\u001b[1;32m   1622\u001b[0m     \u001b[0;32mdef\u001b[0m \u001b[0mclose\u001b[0m\u001b[0;34m(\u001b[0m\u001b[0mself\u001b[0m\u001b[0;34m)\u001b[0m \u001b[0;34m->\u001b[0m \u001b[0;32mNone\u001b[0m\u001b[0;34m:\u001b[0m\u001b[0;34m\u001b[0m\u001b[0;34m\u001b[0m\u001b[0m\n",
            "\u001b[0;32m/usr/local/lib/python3.10/dist-packages/pandas/io/parsers/readers.py\u001b[0m in \u001b[0;36m_make_engine\u001b[0;34m(self, f, engine)\u001b[0m\n\u001b[1;32m   1878\u001b[0m                 \u001b[0;32mif\u001b[0m \u001b[0;34m\"b\"\u001b[0m \u001b[0;32mnot\u001b[0m \u001b[0;32min\u001b[0m \u001b[0mmode\u001b[0m\u001b[0;34m:\u001b[0m\u001b[0;34m\u001b[0m\u001b[0;34m\u001b[0m\u001b[0m\n\u001b[1;32m   1879\u001b[0m                     \u001b[0mmode\u001b[0m \u001b[0;34m+=\u001b[0m \u001b[0;34m\"b\"\u001b[0m\u001b[0;34m\u001b[0m\u001b[0;34m\u001b[0m\u001b[0m\n\u001b[0;32m-> 1880\u001b[0;31m             self.handles = get_handle(\n\u001b[0m\u001b[1;32m   1881\u001b[0m                 \u001b[0mf\u001b[0m\u001b[0;34m,\u001b[0m\u001b[0;34m\u001b[0m\u001b[0;34m\u001b[0m\u001b[0m\n\u001b[1;32m   1882\u001b[0m                 \u001b[0mmode\u001b[0m\u001b[0;34m,\u001b[0m\u001b[0;34m\u001b[0m\u001b[0;34m\u001b[0m\u001b[0m\n",
            "\u001b[0;32m/usr/local/lib/python3.10/dist-packages/pandas/io/common.py\u001b[0m in \u001b[0;36mget_handle\u001b[0;34m(path_or_buf, mode, encoding, compression, memory_map, is_text, errors, storage_options)\u001b[0m\n\u001b[1;32m    871\u001b[0m         \u001b[0;32mif\u001b[0m \u001b[0mioargs\u001b[0m\u001b[0;34m.\u001b[0m\u001b[0mencoding\u001b[0m \u001b[0;32mand\u001b[0m \u001b[0;34m\"b\"\u001b[0m \u001b[0;32mnot\u001b[0m \u001b[0;32min\u001b[0m \u001b[0mioargs\u001b[0m\u001b[0;34m.\u001b[0m\u001b[0mmode\u001b[0m\u001b[0;34m:\u001b[0m\u001b[0;34m\u001b[0m\u001b[0;34m\u001b[0m\u001b[0m\n\u001b[1;32m    872\u001b[0m             \u001b[0;31m# Encoding\u001b[0m\u001b[0;34m\u001b[0m\u001b[0;34m\u001b[0m\u001b[0m\n\u001b[0;32m--> 873\u001b[0;31m             handle = open(\n\u001b[0m\u001b[1;32m    874\u001b[0m                 \u001b[0mhandle\u001b[0m\u001b[0;34m,\u001b[0m\u001b[0;34m\u001b[0m\u001b[0;34m\u001b[0m\u001b[0m\n\u001b[1;32m    875\u001b[0m                 \u001b[0mioargs\u001b[0m\u001b[0;34m.\u001b[0m\u001b[0mmode\u001b[0m\u001b[0;34m,\u001b[0m\u001b[0;34m\u001b[0m\u001b[0;34m\u001b[0m\u001b[0m\n",
            "\u001b[0;31mFileNotFoundError\u001b[0m: [Errno 2] No such file or directory: '/content/SriLanka_Weather_Dataset.csv'"
          ]
        }
      ]
    },
    {
      "cell_type": "code",
      "source": [
        "df.head(5)"
      ],
      "metadata": {
        "id": "5xxRvS311ni1"
      },
      "execution_count": null,
      "outputs": []
    },
    {
      "cell_type": "markdown",
      "source": [
        "The dataset includes information such as:\n",
        "\n",
        "\n",
        "* Time: The timestamp of each weather observation.\n",
        "\n",
        "* Weather Code: A numerical code representing the weather conditions at the given time.\n",
        "\n",
        "* Temperature: Maximum, minimum, and mean values of 2-meter temperature.\n",
        "\n",
        "* Apparent Temperature: Maximum, minimum, and mean values of apparent * temperature, which takes into account factors like wind chill or heat index.\n",
        "\n",
        "* Sunrise and Sunset: The times of sunrise and sunset for each day.\n",
        "\n",
        "* Shortwave Radiation: Sum of shortwave radiation received during the observation period.\n",
        "\n",
        "* Precipitation: Total sum of precipitation, including rainfall and snowfall.\n",
        "\n",
        "* Precipitation Hours: The duration of time with measurable precipitation.\n",
        "\n",
        "* Wind Speed and Gusts: Maximum values of wind speed and wind gusts at 10 meters above ground level.\n",
        "\n",
        "* Wind Direction: Dominant wind direction at 10 meters above ground level.\n",
        "\n",
        "* Evapotranspiration: Reference evapotranspiration (ET0) based on the FAO Penman-Monteith equation.\n",
        "\n",
        "* Latitude, Longitude, and Elevation: Geographic coordinates and elevation of each city.\n",
        "\n",
        "* Country and City: Names of the country and city corresponding to each weather observation.\n",
        "\n",
        "\n"
      ],
      "metadata": {
        "id": "i_mT1y_u123A"
      }
    },
    {
      "cell_type": "code",
      "source": [
        "df.info()"
      ],
      "metadata": {
        "id": "cSOl6rid10FI"
      },
      "execution_count": null,
      "outputs": []
    },
    {
      "cell_type": "code",
      "source": [
        "print(df.duplicated().sum())"
      ],
      "metadata": {
        "id": "elzXMfRk11vP"
      },
      "execution_count": null,
      "outputs": []
    },
    {
      "cell_type": "code",
      "source": [
        "df.describe()"
      ],
      "metadata": {
        "id": "DU9c0mDP230O"
      },
      "execution_count": null,
      "outputs": []
    },
    {
      "cell_type": "code",
      "source": [
        "types_of_countries =  df['country'].unique()\n",
        "print(types_of_countries)"
      ],
      "metadata": {
        "id": "2794sKFk3Y6P"
      },
      "execution_count": null,
      "outputs": []
    },
    {
      "cell_type": "code",
      "source": [
        "types_of_cities =  df['city'].unique()\n",
        "print(types_of_cities)\n",
        "print(len(types_of_cities))"
      ],
      "metadata": {
        "id": "9oWqCXLd51Np"
      },
      "execution_count": null,
      "outputs": []
    },
    {
      "cell_type": "code",
      "source": [
        "fig, ax = plt.subplots(figsize=(10, 7))\n",
        "\n",
        "ax.plot(df['city'], df['precipitation_sum'], linewidth=2.0)\n",
        "\n",
        "ax.set_xlabel('City')\n",
        "plt.xticks(rotation=80)\n",
        "ax.set_ylabel('Precipitation Sum')\n",
        "ax.set_title('Precipitation by City ')\n",
        "\n",
        "plt.show()"
      ],
      "metadata": {
        "id": "BD02KAcG6CCV"
      },
      "execution_count": null,
      "outputs": []
    },
    {
      "cell_type": "code",
      "source": [
        "cities = pd.DataFrame({'Cities' : df['city'].unique()})\n",
        "latitudes = []\n",
        "longitudes = []\n",
        "\n",
        "for i in range(cities['Cities'].size):\n",
        "    lat = df.loc[df['city'] == cities['Cities'].iloc[i]]['latitude'].iloc[0]\n",
        "    long = df.loc[df['city'] == cities['Cities'].iloc[i]]['longitude'].iloc[0]\n",
        "    latitudes.append(lat)\n",
        "    longitudes.append(long)\n",
        "cities['latitude'] = latitudes; cities['longitude'] = longitudes"
      ],
      "metadata": {
        "id": "bc42bXiQ_b8J"
      },
      "execution_count": null,
      "outputs": []
    },
    {
      "cell_type": "code",
      "source": [
        "city_locations = folium.Map(width = 600, height = 400, location=[7.877083,80.697917], tiles='cartodbpositronnolabels', zoom_start=7, zoom_control=False,\n",
        "               scrollWheelZoom=False,\n",
        "               dragging=False)\n",
        "\n",
        "\n",
        "for idx, row in cities.iterrows():\n",
        "    folium.Circle(location = [row['latitude'], row['longitude']],\n",
        "                  radius = 2000,\n",
        "                 ).add_child(folium.Popup(row['Cities'])).add_to(city_locations)\n",
        "\n",
        "city_locations"
      ],
      "metadata": {
        "id": "RjHvQGbpFpXG"
      },
      "execution_count": null,
      "outputs": []
    },
    {
      "cell_type": "code",
      "source": [
        "df['time'] = pd.to_datetime(df['time'])\n",
        "df['year_month'] = df['time'].dt.to_period('M')\n",
        "monthly_avg_temp = df.groupby('year_month')['temperature_2m_mean'].mean().reset_index()"
      ],
      "metadata": {
        "id": "YLRIksUoF3i-"
      },
      "execution_count": null,
      "outputs": []
    },
    {
      "cell_type": "code",
      "source": [
        "monthly_avg_temp"
      ],
      "metadata": {
        "id": "4ekDiLlLIzUS"
      },
      "execution_count": null,
      "outputs": []
    },
    {
      "cell_type": "code",
      "source": [
        "plt.figure(figsize=(50, 15))\n",
        "plt.plot(monthly_avg_temp.year_month.astype(str), monthly_avg_temp.temperature_2m_mean, marker='o', linestyle='-', color='b')\n",
        "plt.title('Monthly Average Temperature Trend')\n",
        "plt.xlabel('Time (Year-Month)')\n",
        "plt.ylabel('Average Temperature (°C)')\n",
        "plt.xticks(rotation=90)\n",
        "plt.grid(True)\n",
        "plt.tight_layout()\n",
        "\n",
        "# Show the plot\n",
        "plt.show()"
      ],
      "metadata": {
        "id": "8t0uYsAaJatG"
      },
      "execution_count": null,
      "outputs": []
    },
    {
      "cell_type": "code",
      "source": [
        "cities = pd.DataFrame({'Cities' : df['city'].unique()})\n",
        "elevation = []\n",
        "\n",
        "for i in range(cities['Cities'].size):\n",
        "    ele = df.loc[df['city'] == cities['Cities'].iloc[i]]['elevation'].iloc[0]\n",
        "    elevation.append(ele)\n",
        "cities['elevation'] = elevation;"
      ],
      "metadata": {
        "id": "bIaCkrUFKMcB"
      },
      "execution_count": null,
      "outputs": []
    },
    {
      "cell_type": "code",
      "source": [
        "cities"
      ],
      "metadata": {
        "id": "hGeIqALvOZfY"
      },
      "execution_count": null,
      "outputs": []
    },
    {
      "cell_type": "code",
      "source": [
        "plt.figure(figsize=(10, 7))\n",
        "plt.bar(cities['Cities'], cities['elevation'])\n",
        "plt.xlabel('City')\n",
        "plt.xticks(rotation=90)\n",
        "plt.ylabel('Elevation (m)')\n",
        "plt.title('Elevation of Cities')"
      ],
      "metadata": {
        "id": "efkamFgAVTuv"
      },
      "execution_count": null,
      "outputs": []
    },
    {
      "cell_type": "code",
      "source": [
        "df['winddirection_10m_dominant'].min(), df['winddirection_10m_dominant'].max()"
      ],
      "metadata": {
        "id": "d8AvPHSXObG3"
      },
      "execution_count": null,
      "outputs": []
    },
    {
      "cell_type": "code",
      "source": [
        "df['precipitation_hours'].min(), df['precipitation_hours'].max()"
      ],
      "metadata": {
        "id": "AZkBk0JnP3Gl"
      },
      "execution_count": null,
      "outputs": []
    },
    {
      "cell_type": "code",
      "source": [
        "df.head(2)"
      ],
      "metadata": {
        "id": "bPgM4ix2RuGk"
      },
      "execution_count": null,
      "outputs": []
    },
    {
      "cell_type": "code",
      "source": [
        "wind_direction_with_elevation = df.groupby('elevation')['winddirection_10m_dominant'].mean().reset_index()\n",
        "wind_direction_with_elevation"
      ],
      "metadata": {
        "id": "xSJBuO3ESLb9"
      },
      "execution_count": null,
      "outputs": []
    },
    {
      "cell_type": "code",
      "source": [
        "df.info()"
      ],
      "metadata": {
        "id": "mQI7UJXVTfGT"
      },
      "execution_count": null,
      "outputs": []
    },
    {
      "cell_type": "code",
      "source": [
        "fig, ax = plt.subplots(figsize=(10, 7))\n",
        "\n",
        "# Plot the ECDF using seaborn for better styling\n",
        "sns.ecdfplot(df['apparent_temperature_mean'], ax=ax, color='blue', linewidth=2)\n",
        "\n",
        "# Add titles and labels\n",
        "ax.set_title('ECDF of Apparent Temperature Mean', fontsize=16)\n",
        "ax.set_xlabel('Apparent Temperature (°C)', fontsize=14)\n",
        "ax.set_ylabel('Cumulative Probability', fontsize=14)\n",
        "\n",
        "# Customize grid for better visibility\n",
        "ax.grid(True, linestyle='--', alpha=0.7)\n",
        "\n",
        "# Show the plot\n",
        "plt.tight_layout()\n",
        "plt.show()"
      ],
      "metadata": {
        "id": "u8ha96m8XgxH"
      },
      "execution_count": null,
      "outputs": []
    },
    {
      "cell_type": "code",
      "source": [
        "df =df.drop(['year_month'], axis=1)"
      ],
      "metadata": {
        "id": "euZr6G8daAYK"
      },
      "execution_count": null,
      "outputs": []
    },
    {
      "cell_type": "code",
      "source": [
        "year_with_wind_max = pd.DataFrame({'time' : df['time'],'windspeed_10m_max':df['windspeed_10m_max'], 'apparent_temperature_max':df['apparent_temperature_max'] })\n",
        "year_with_wind_max"
      ],
      "metadata": {
        "id": "hUnpXJoNaAVH"
      },
      "execution_count": null,
      "outputs": []
    },
    {
      "cell_type": "code",
      "source": [
        "year_with_wind_max['year'] = year_with_wind_max['time'].dt.to_period('Y')\n",
        "year_with_wind_max\n"
      ],
      "metadata": {
        "id": "fMsALHrpaASM"
      },
      "execution_count": null,
      "outputs": []
    },
    {
      "cell_type": "code",
      "source": [
        "max_windspeed_year = (\n",
        "    year_with_wind_max.groupby('year')\n",
        "    .agg({'windspeed_10m_max': 'max', 'apparent_temperature_max': 'max'})\n",
        "    .reset_index()\n",
        ")\n",
        "\n",
        "max_windspeed_year"
      ],
      "metadata": {
        "id": "vdIXYS2-aAPE"
      },
      "execution_count": null,
      "outputs": []
    },
    {
      "cell_type": "code",
      "source": [
        "plt.figure(figsize=(10, 7))\n",
        "\n",
        "plt.plot(max_windspeed_year['year'].astype(str),\n",
        "         max_windspeed_year['windspeed_10m_max'],\n",
        "         marker='o', linestyle='-', color='blue', label='Max Wind Speed')\n",
        "\n",
        "plt.plot(max_windspeed_year['year'].astype(str),\n",
        "         max_windspeed_year['apparent_temperature_max'],\n",
        "         marker='s', linestyle='--', color='red', label='Max Apparent Temperature')\n",
        "\n",
        "plt.title('Max Wind Speed and Apparent Temperature Over the Years', fontsize=16)\n",
        "plt.xlabel('Year', fontsize=14)\n",
        "plt.ylabel('Value', fontsize=14)\n",
        "plt.legend(fontsize=12)\n",
        "plt.grid(True, linestyle='--', alpha=0.5)\n",
        "\n",
        "plt.xticks(rotation=45)\n",
        "plt.tight_layout()\n",
        "\n",
        "plt.show()\n"
      ],
      "metadata": {
        "id": "pbk2y2AraAL1"
      },
      "execution_count": null,
      "outputs": []
    },
    {
      "cell_type": "code",
      "source": [
        "df.info()"
      ],
      "metadata": {
        "id": "CHBuCaNvaAId"
      },
      "execution_count": null,
      "outputs": []
    },
    {
      "cell_type": "code",
      "source": [],
      "metadata": {
        "id": "NSm8XUdcaAE8"
      },
      "execution_count": null,
      "outputs": []
    },
    {
      "cell_type": "code",
      "source": [],
      "metadata": {
        "id": "q5nM2T-UaABe"
      },
      "execution_count": null,
      "outputs": []
    }
  ]
}