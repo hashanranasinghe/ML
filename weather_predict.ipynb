{
 "cells": [
  {
   "cell_type": "code",
   "execution_count": 36,
   "metadata": {},
   "outputs": [],
   "source": [
    "import numpy as np\n",
    "import pandas as pd\n",
    "import tensorflow as tf\n",
    "import joblib"
   ]
  },
  {
   "cell_type": "code",
   "execution_count": 37,
   "metadata": {},
   "outputs": [],
   "source": [
    "model_14_load = tf.keras.models.load_model('./weather/model_14.keras')"
   ]
  },
  {
   "cell_type": "code",
   "execution_count": 38,
   "metadata": {},
   "outputs": [],
   "source": [
    "preprocessor = joblib.load('./weather/column_transformer.pkl') "
   ]
  },
  {
   "cell_type": "code",
   "execution_count": 39,
   "metadata": {},
   "outputs": [],
   "source": [
    "def encode(data, col, max_val):\n",
    "    data[col + '_sin'] = np.sin(2 * np.pi * data[col] / max_val)\n",
    "    data[col + '_cos'] = np.cos(2 * np.pi * data[col] / max_val)\n",
    "    return data\n"
   ]
  },
  {
   "cell_type": "code",
   "execution_count": 46,
   "metadata": {},
   "outputs": [],
   "source": [
    "def predict_temperature(user_input):\n",
    "    \"\"\"\n",
    "    Predict temperature based on user input.\n",
    "    \"\"\"\n",
    "    df = pd.DataFrame([user_input])\n",
    "    df['time'] = pd.to_datetime(df['time'])\n",
    "    df['sunrise'] = pd.to_datetime(df['sunrise'])\n",
    "    df['sunset'] = pd.to_datetime(df['sunset'])\n",
    "\n",
    "    df['sunrise_year'] = df['sunrise'].dt.year\n",
    "    df['sunrise_month'] = df['sunrise'].dt.month\n",
    "    df['sunrise_day'] = df['sunrise'].dt.day\n",
    "    df['sunrise_hour'] = df['sunrise'].dt.hour\n",
    "    df['sunrise_minute'] = df['sunrise'].dt.minute\n",
    "    df['sunrise_second'] = df['sunrise'].dt.second\n",
    "    df['sunset_year'] = df['sunset'].dt.year\n",
    "    df['sunset_month'] = df['sunset'].dt.month\n",
    "    df['sunset_day'] = df['sunset'].dt.day\n",
    "    df['sunset_hour'] = df['sunset'].dt.hour\n",
    "    df['sunset_minute'] = df['sunset'].dt.minute\n",
    "    df['sunset_second'] = df['sunset'].dt.second\n",
    "    df['time_year'] = df['time'].dt.year\n",
    "    df['time_month'] = df['time'].dt.month\n",
    "    df['time_day'] = df['time'].dt.day\n",
    "\n",
    "    df = encode(df, 'time_day', 31)\n",
    "    df = encode(df, 'time_month', 12)\n",
    "    df = encode(df, 'time_year', 2023)\n",
    "    df = encode(df, 'sunrise_day', 31)\n",
    "    df = encode(df, 'sunrise_month', 12)\n",
    "    df = encode(df, 'sunrise_year', 2023)\n",
    "    df = encode(df, 'sunrise_hour', 24)\n",
    "    df = encode(df, 'sunrise_minute', 60)\n",
    "    df = encode(df, 'sunrise_second', 60)\n",
    "    df = encode(df, 'sunset_hour', 24)\n",
    "    df = encode(df, 'sunset_minute', 60)\n",
    "    df = encode(df, 'sunset_second', 60)\n",
    "    df = encode(df, 'sunset_day', 31)\n",
    "    df = encode(df, 'sunset_month', 12)\n",
    "    df = encode(df, 'sunset_year', 2023)\n",
    "\n",
    "    df = df.drop([\n",
    "        'time',\n",
    "        'sunrise',\n",
    "        'sunset',\n",
    "        'time_day',\n",
    "        'time_month',\n",
    "        'time_year',\n",
    "        'sunrise_day',\n",
    "        'sunrise_month',\n",
    "        'sunrise_year',\n",
    "        'sunset_day',\n",
    "        'sunset_month',\n",
    "        'sunset_year',\n",
    "        'sunrise_hour',\n",
    "        'sunrise_minute',\n",
    "        'sunrise_second',\n",
    "        'sunset_hour',\n",
    "        'sunset_minute',\n",
    "        'sunset_second'],axis=1)\n",
    "\n",
    "    input_data_preprocessed = preprocessor.transform(df)\n",
    "    \n",
    "    \n",
    "    prediction = model_14_load.predict(input_data_preprocessed)\n",
    "    \n",
    "    return prediction[0][0]"
   ]
  },
  {
   "cell_type": "code",
   "execution_count": 51,
   "metadata": {},
   "outputs": [],
   "source": [
    "user_input={\n",
    "    'time':'3/8/2023',\n",
    "    'temperature_2m_min':25, \n",
    "    'temperature_2m_mean':26.8,\n",
    "    'apparent_temperature_max':34.8,\n",
    "    'apparent_temperature_min':29.6,\n",
    "    'apparent_temperature_mean':31.5,\n",
    "    'sunrise':'2023-06-09T00:23',\n",
    "    'sunset':'2023-06-09T12:54',\n",
    "    'shortwave_radiation_sum':18.11,\n",
    "    'rain_sum':7.3,\n",
    "    'precipitation_hours':16,\n",
    "    'windspeed_10m_max':19.6,\n",
    "    'windgusts_10m_max':39.6,\n",
    "    'winddirection_10m_dominant':225,\n",
    "    'et0_fao_evapotranspiration':3.54,\n",
    "    'city':'Oruwala'\n",
    "}"
   ]
  },
  {
   "cell_type": "code",
   "execution_count": 52,
   "metadata": {},
   "outputs": [
    {
     "name": "stdout",
     "output_type": "stream",
     "text": [
      "\u001b[1m1/1\u001b[0m \u001b[32m━━━━━━━━━━━━━━━━━━━━\u001b[0m\u001b[37m\u001b[0m \u001b[1m0s\u001b[0m 30ms/step\n",
      "29.538994\n"
     ]
    }
   ],
   "source": [
    "result = predict_temperature(user_input=user_input)\n",
    "print(result)"
   ]
  }
 ],
 "metadata": {
  "kernelspec": {
   "display_name": "venv",
   "language": "python",
   "name": "python3"
  },
  "language_info": {
   "codemirror_mode": {
    "name": "ipython",
    "version": 3
   },
   "file_extension": ".py",
   "mimetype": "text/x-python",
   "name": "python",
   "nbconvert_exporter": "python",
   "pygments_lexer": "ipython3",
   "version": "3.11.2"
  }
 },
 "nbformat": 4,
 "nbformat_minor": 2
}
